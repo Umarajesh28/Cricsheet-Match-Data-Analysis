{
 "cells": [
  {
   "cell_type": "code",
   "execution_count": 4,
   "id": "e26a1091-ed65-4602-9f35-21f15d7f1fbd",
   "metadata": {},
   "outputs": [
    {
     "name": "stdout",
     "output_type": "stream",
     "text": [
      "Error downloading T20 internationals: HTTPConnectionPool(host='localhost', port=55025): Read timed out. (read timeout=120)\n",
      "Download completed for all match types.\n"
     ]
    }
   ],
   "source": [
    "import os\n",
    "import time\n",
    "from selenium import webdriver\n",
    "from selenium.webdriver.common.by import By\n",
    "from selenium.webdriver.chrome.service import Service\n",
    "from selenium.webdriver.chrome.options import Options\n",
    "\n",
    "class CricketdataDownloader:\n",
    "    def __init__(self, website_url, destination_dir):\n",
    "        self.website_url = website_url\n",
    "        self.destination_dir = destination_dir\n",
    "        self.browser = None\n",
    "\n",
    "        # Set up Chrome options for Selenium\n",
    "        self.chrome_options = Options()\n",
    "        preferences = {\"download.default_directory\": self.destination_dir, \"profile.default_content_settings.popups\": 0}\n",
    "        self.chrome_options.add_experimental_option(\"prefs\", preferences)\n",
    "\n",
    "    def initialize_browser(self):\n",
    "        \"\"\"Initialize the WebDriver.\"\"\"\n",
    "        service = Service()  # Provide the path to chromedriver if needed\n",
    "        self.browser = webdriver.Chrome(service=service, options=self.chrome_options)\n",
    "\n",
    "    def fetch_json_files(self):\n",
    "        \"\"\"Automate the download of JSON files for Test, ODI, and T20 matches.\"\"\"\n",
    "        try:\n",
    "            # Navigate to the Cricsheet matches page\n",
    "            self.browser.get(self.website_url)\n",
    "            time.sleep(3)  # Allow time for the page to load\n",
    "\n",
    "            # Define match types and their corresponding CSS selectors or XPath\n",
    "            match_types = {\n",
    "                \"Test matches\": '//a[contains(@href, \"tests_json.zip\")]',\n",
    "                \"One-day internationals\": '//a[contains(@href, \"odis_json.zip\")]',\n",
    "                \"T20 internationals\": '//a[contains(@href, \"t20s_json.zip\")]',\n",
    "            }\n",
    "\n",
    "            for match_type, xpath in match_types.items():\n",
    "                print(f\"Downloading {match_type}...\")\n",
    "                try:\n",
    "                    # Locate and click the download link\n",
    "                    download_link = self.browser.find_element(By.XPATH, xpath)\n",
    "                    download_link.click()\n",
    "                    time.sleep(5)  # Wait for the file to download\n",
    "                except Exception as e:\n",
    "                    print(f\"Error downloading {match_type}: {e}\")\n",
    "\n",
    "            print(\"Download completed for all match types.\")\n",
    "        except Exception as e:\n",
    "            print(f\"An error occurred during scraping: {e}\")\n",
    "\n",
    "    def close_browser(self):\n",
    "        \"\"\"Close the Selenium WebDriver.\"\"\"\n",
    "        if self.browser:\n",
    "            self.browser.quit()\n",
    "\n",
    "    def execute(self):\n",
    "        \"\"\"Execute the scraping process.\"\"\"\n",
    "        self.initialize_browser()\n",
    "        self.fetch_json_files()\n",
    "        self.close_browser()\n",
    "\n",
    "if __name__ == \"__main__\":\n",
    "    # Define the URL and download directory\n",
    "    WEBSITE_URL = \"https://cricsheet.org/matches/\"\n",
    "    DESTINATION_DIR = os.path.join(os.getcwd(), \"cricket_downloads\")  # Set to a preferred download directory\n",
    "\n",
    "    # Ensure the download directory exists\n",
    "    if not os.path.exists(DESTINATION_DIR):\n",
    "        os.makedirs(DESTINATION_DIR)\n",
    "\n",
    "    # Run the downloader\n",
    "    downloader = CricketdataDownloader(WEBSITE_URL, DESTINATION_DIR)\n",
    "    downloader.execute()\n"
   ]
  }
 ],
 "metadata": {
  "kernelspec": {
   "display_name": "Python 3 (ipykernel)",
   "language": "python",
   "name": "python3"
  },
  "language_info": {
   "codemirror_mode": {
    "name": "ipython",
    "version": 3
   },
   "file_extension": ".py",
   "mimetype": "text/x-python",
   "name": "python",
   "nbconvert_exporter": "python",
   "pygments_lexer": "ipython3",
   "version": "3.12.4"
  }
 },
 "nbformat": 4,
 "nbformat_minor": 5
}
